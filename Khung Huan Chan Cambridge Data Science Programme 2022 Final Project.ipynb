{
 "cells": [
  {
   "cell_type": "markdown",
   "metadata": {},
   "source": [
    "______________________________________________________________________________________________________________________\n",
    "# Khung Huan Chan Cambridge Data Science Programme Final Project\n",
    "______________________________________________________________________________________________________________________\n",
    "\n",
    "Dataset: worldometer_data.csv  \n",
    "Obtained from: https://www.kaggle.com/datasets/imdevskp/corona-virus-report"
   ]
  },
  {
   "cell_type": "markdown",
   "metadata": {},
   "source": [
    "______________________________________________________________________________________________________________________\n",
    "## Introduction\n",
    "______________________________________________________________________________________________________________________\n",
    "This dataset contains the reported Covid-19 statistics across more than 200 countries, including the total number of reported cases and deaths. This data originated from the https://www.worldometers.info/ which is an online database that tracks real-time reported Covid-19 summary statistics. This data was dated on the 22/01/2020.\n",
    "\n",
    "This dataset contains a lot of information which can help deduce how much Covid-19 impacted each individual country or continent. Furthermore, we can identify how severe the Covid-19 virus is in terms of how it affects the mortality rate for different countries."
   ]
  },
  {
   "cell_type": "markdown",
   "metadata": {},
   "source": [
    "______________________________________________________________________________________________________________________\n",
    "\n",
    "## Methods\n",
    "______________________________________________________________________________________________________________________\n",
    "1. Installing all required libraries and importing dataset into pandas\n",
    "2. Cleaning up the dataset and splitting it into specific subsets for further analysis\n",
    "3. Identifying the top 10 counties with the highest and lowest reported Covid-19 cases\n",
    "4. Grouping the countries into their respective continents and deducing which continents have the highest and lowest reported Covid-19 cases\n",
    "5. Investigating the relationship between the number of reported Covid-19 tests and cases\n",
    "6. Looking at the relationship between the top 10 countries with the highest reported Covid-19 tests and cases\n",
    "7. Identifying the relationship between the total reported Covid-19 cases and deaths\n",
    "8. Looking at the top 10 countries with the highest and lowest reported Covid-19 patient recovery rates"
   ]
  },
  {
   "cell_type": "markdown",
   "metadata": {},
   "source": [
    "______________________________________________________________________________________________________________________\n",
    "## Installing Relevant Libraries and Importing Dataset\n",
    "______________________________________________________________________________________________________________________\n"
   ]
  },
  {
   "cell_type": "code",
   "execution_count": 521,
   "metadata": {},
   "outputs": [],
   "source": [
    "# Installing required libraries \n",
    "\n",
    "import pandas as pd\n",
    "import numpy as np\n",
    "import matplotlib.pyplot as plt\n",
    "import seaborn as sns\n",
    "%matplotlib inline\n",
    "import warnings"
   ]
  },
  {
   "cell_type": "code",
   "execution_count": 522,
   "metadata": {},
   "outputs": [],
   "source": [
    "# Importing dataset which is in a csv format into pandas\n",
    "\n",
    "df = pd.read_csv(\"worldometer_data.csv\")"
   ]
  },
  {
   "cell_type": "markdown",
   "metadata": {},
   "source": [
    "______________________________________________________________________________________________________________________\n",
    "\n",
    "## Data exploration and preparation\n",
    "______________________________________________________________________________________________________________________"
   ]
  },
  {
   "cell_type": "code",
   "execution_count": 523,
   "metadata": {},
   "outputs": [
    {
     "data": {
      "text/plain": [
       "pandas.core.frame.DataFrame"
      ]
     },
     "execution_count": 523,
     "metadata": {},
     "output_type": "execute_result"
    }
   ],
   "source": [
    "# Confirming the type of data structure\n",
    "\n",
    "type(df)"
   ]
  },
  {
   "cell_type": "code",
   "execution_count": 524,
   "metadata": {},
   "outputs": [
    {
     "data": {
      "text/html": [
       "<div>\n",
       "<style scoped>\n",
       "    .dataframe tbody tr th:only-of-type {\n",
       "        vertical-align: middle;\n",
       "    }\n",
       "\n",
       "    .dataframe tbody tr th {\n",
       "        vertical-align: top;\n",
       "    }\n",
       "\n",
       "    .dataframe thead th {\n",
       "        text-align: right;\n",
       "    }\n",
       "</style>\n",
       "<table border=\"1\" class=\"dataframe\">\n",
       "  <thead>\n",
       "    <tr style=\"text-align: right;\">\n",
       "      <th></th>\n",
       "      <th>Country/Region</th>\n",
       "      <th>Continent</th>\n",
       "      <th>Population</th>\n",
       "      <th>TotalCases</th>\n",
       "      <th>NewCases</th>\n",
       "      <th>TotalDeaths</th>\n",
       "      <th>NewDeaths</th>\n",
       "      <th>TotalRecovered</th>\n",
       "      <th>NewRecovered</th>\n",
       "      <th>ActiveCases</th>\n",
       "      <th>Serious,Critical</th>\n",
       "      <th>Tot Cases/1M pop</th>\n",
       "      <th>Deaths/1M pop</th>\n",
       "      <th>TotalTests</th>\n",
       "      <th>Tests/1M pop</th>\n",
       "      <th>WHO Region</th>\n",
       "    </tr>\n",
       "  </thead>\n",
       "  <tbody>\n",
       "    <tr>\n",
       "      <th>0</th>\n",
       "      <td>USA</td>\n",
       "      <td>North America</td>\n",
       "      <td>3.311981e+08</td>\n",
       "      <td>5032179</td>\n",
       "      <td>NaN</td>\n",
       "      <td>162804.0</td>\n",
       "      <td>NaN</td>\n",
       "      <td>2576668.0</td>\n",
       "      <td>NaN</td>\n",
       "      <td>2292707.0</td>\n",
       "      <td>18296.0</td>\n",
       "      <td>15194.0</td>\n",
       "      <td>492.0</td>\n",
       "      <td>63139605.0</td>\n",
       "      <td>190640.0</td>\n",
       "      <td>Americas</td>\n",
       "    </tr>\n",
       "    <tr>\n",
       "      <th>1</th>\n",
       "      <td>Brazil</td>\n",
       "      <td>South America</td>\n",
       "      <td>2.127107e+08</td>\n",
       "      <td>2917562</td>\n",
       "      <td>NaN</td>\n",
       "      <td>98644.0</td>\n",
       "      <td>NaN</td>\n",
       "      <td>2047660.0</td>\n",
       "      <td>NaN</td>\n",
       "      <td>771258.0</td>\n",
       "      <td>8318.0</td>\n",
       "      <td>13716.0</td>\n",
       "      <td>464.0</td>\n",
       "      <td>13206188.0</td>\n",
       "      <td>62085.0</td>\n",
       "      <td>Americas</td>\n",
       "    </tr>\n",
       "    <tr>\n",
       "      <th>2</th>\n",
       "      <td>India</td>\n",
       "      <td>Asia</td>\n",
       "      <td>1.381345e+09</td>\n",
       "      <td>2025409</td>\n",
       "      <td>NaN</td>\n",
       "      <td>41638.0</td>\n",
       "      <td>NaN</td>\n",
       "      <td>1377384.0</td>\n",
       "      <td>NaN</td>\n",
       "      <td>606387.0</td>\n",
       "      <td>8944.0</td>\n",
       "      <td>1466.0</td>\n",
       "      <td>30.0</td>\n",
       "      <td>22149351.0</td>\n",
       "      <td>16035.0</td>\n",
       "      <td>South-EastAsia</td>\n",
       "    </tr>\n",
       "    <tr>\n",
       "      <th>3</th>\n",
       "      <td>Russia</td>\n",
       "      <td>Europe</td>\n",
       "      <td>1.459409e+08</td>\n",
       "      <td>871894</td>\n",
       "      <td>NaN</td>\n",
       "      <td>14606.0</td>\n",
       "      <td>NaN</td>\n",
       "      <td>676357.0</td>\n",
       "      <td>NaN</td>\n",
       "      <td>180931.0</td>\n",
       "      <td>2300.0</td>\n",
       "      <td>5974.0</td>\n",
       "      <td>100.0</td>\n",
       "      <td>29716907.0</td>\n",
       "      <td>203623.0</td>\n",
       "      <td>Europe</td>\n",
       "    </tr>\n",
       "    <tr>\n",
       "      <th>4</th>\n",
       "      <td>South Africa</td>\n",
       "      <td>Africa</td>\n",
       "      <td>5.938157e+07</td>\n",
       "      <td>538184</td>\n",
       "      <td>NaN</td>\n",
       "      <td>9604.0</td>\n",
       "      <td>NaN</td>\n",
       "      <td>387316.0</td>\n",
       "      <td>NaN</td>\n",
       "      <td>141264.0</td>\n",
       "      <td>539.0</td>\n",
       "      <td>9063.0</td>\n",
       "      <td>162.0</td>\n",
       "      <td>3149807.0</td>\n",
       "      <td>53044.0</td>\n",
       "      <td>Africa</td>\n",
       "    </tr>\n",
       "  </tbody>\n",
       "</table>\n",
       "</div>"
      ],
      "text/plain": [
       "  Country/Region      Continent    Population  TotalCases  NewCases  \\\n",
       "0            USA  North America  3.311981e+08     5032179       NaN   \n",
       "1         Brazil  South America  2.127107e+08     2917562       NaN   \n",
       "2          India           Asia  1.381345e+09     2025409       NaN   \n",
       "3         Russia         Europe  1.459409e+08      871894       NaN   \n",
       "4   South Africa         Africa  5.938157e+07      538184       NaN   \n",
       "\n",
       "   TotalDeaths  NewDeaths  TotalRecovered  NewRecovered  ActiveCases  \\\n",
       "0     162804.0        NaN       2576668.0           NaN    2292707.0   \n",
       "1      98644.0        NaN       2047660.0           NaN     771258.0   \n",
       "2      41638.0        NaN       1377384.0           NaN     606387.0   \n",
       "3      14606.0        NaN        676357.0           NaN     180931.0   \n",
       "4       9604.0        NaN        387316.0           NaN     141264.0   \n",
       "\n",
       "   Serious,Critical  Tot Cases/1M pop  Deaths/1M pop  TotalTests  \\\n",
       "0           18296.0           15194.0          492.0  63139605.0   \n",
       "1            8318.0           13716.0          464.0  13206188.0   \n",
       "2            8944.0            1466.0           30.0  22149351.0   \n",
       "3            2300.0            5974.0          100.0  29716907.0   \n",
       "4             539.0            9063.0          162.0   3149807.0   \n",
       "\n",
       "   Tests/1M pop      WHO Region  \n",
       "0      190640.0        Americas  \n",
       "1       62085.0        Americas  \n",
       "2       16035.0  South-EastAsia  \n",
       "3      203623.0          Europe  \n",
       "4       53044.0          Africa  "
      ]
     },
     "execution_count": 524,
     "metadata": {},
     "output_type": "execute_result"
    }
   ],
   "source": [
    "# Identifying overall shape of dataframe\n",
    "\n",
    "df.head()"
   ]
  },
  {
   "cell_type": "code",
   "execution_count": 525,
   "metadata": {},
   "outputs": [
    {
     "data": {
      "text/plain": [
       "(209, 16)"
      ]
     },
     "execution_count": 525,
     "metadata": {},
     "output_type": "execute_result"
    }
   ],
   "source": [
    "# Looking to see how many rows and columns this dataset contains\n",
    "\n",
    "df.shape"
   ]
  },
  {
   "cell_type": "markdown",
   "metadata": {},
   "source": [
    "- This dataset contains 209 rows and 16 columns"
   ]
  },
  {
   "cell_type": "code",
   "execution_count": 526,
   "metadata": {},
   "outputs": [
    {
     "name": "stdout",
     "output_type": "stream",
     "text": [
      "Country/Region\n",
      "Continent\n",
      "Population\n",
      "TotalCases\n",
      "NewCases\n",
      "TotalDeaths\n",
      "NewDeaths\n",
      "TotalRecovered\n",
      "NewRecovered\n",
      "ActiveCases\n",
      "Serious,Critical\n",
      "Tot Cases/1M pop\n",
      "Deaths/1M pop\n",
      "TotalTests\n",
      "Tests/1M pop\n",
      "WHO Region\n"
     ]
    }
   ],
   "source": [
    "# Iterating over each column headers to see what unique variables we are working with\n",
    "\n",
    "for col in df.columns:\n",
    "    print(col)"
   ]
  },
  {
   "cell_type": "markdown",
   "metadata": {},
   "source": [
    "______________________________________________________________________________________________________________________\n",
    "## Splitting Main Dataframe into Different Subsets for Further Exploration\n",
    "______________________________________________________________________________________________________________________\n"
   ]
  },
  {
   "cell_type": "code",
   "execution_count": 527,
   "metadata": {},
   "outputs": [
    {
     "data": {
      "text/html": [
       "<div>\n",
       "<style scoped>\n",
       "    .dataframe tbody tr th:only-of-type {\n",
       "        vertical-align: middle;\n",
       "    }\n",
       "\n",
       "    .dataframe tbody tr th {\n",
       "        vertical-align: top;\n",
       "    }\n",
       "\n",
       "    .dataframe thead th {\n",
       "        text-align: right;\n",
       "    }\n",
       "</style>\n",
       "<table border=\"1\" class=\"dataframe\">\n",
       "  <thead>\n",
       "    <tr style=\"text-align: right;\">\n",
       "      <th></th>\n",
       "      <th>Country/Region</th>\n",
       "      <th>Continent</th>\n",
       "      <th>Population</th>\n",
       "      <th>TotalCases</th>\n",
       "      <th>TotalDeaths</th>\n",
       "      <th>TotalRecovered</th>\n",
       "      <th>TotalTests</th>\n",
       "    </tr>\n",
       "  </thead>\n",
       "  <tbody>\n",
       "    <tr>\n",
       "      <th>0</th>\n",
       "      <td>USA</td>\n",
       "      <td>North America</td>\n",
       "      <td>3.311981e+08</td>\n",
       "      <td>5032179</td>\n",
       "      <td>162804.0</td>\n",
       "      <td>2576668.0</td>\n",
       "      <td>63139605.0</td>\n",
       "    </tr>\n",
       "    <tr>\n",
       "      <th>1</th>\n",
       "      <td>Brazil</td>\n",
       "      <td>South America</td>\n",
       "      <td>2.127107e+08</td>\n",
       "      <td>2917562</td>\n",
       "      <td>98644.0</td>\n",
       "      <td>2047660.0</td>\n",
       "      <td>13206188.0</td>\n",
       "    </tr>\n",
       "    <tr>\n",
       "      <th>2</th>\n",
       "      <td>India</td>\n",
       "      <td>Asia</td>\n",
       "      <td>1.381345e+09</td>\n",
       "      <td>2025409</td>\n",
       "      <td>41638.0</td>\n",
       "      <td>1377384.0</td>\n",
       "      <td>22149351.0</td>\n",
       "    </tr>\n",
       "    <tr>\n",
       "      <th>3</th>\n",
       "      <td>Russia</td>\n",
       "      <td>Europe</td>\n",
       "      <td>1.459409e+08</td>\n",
       "      <td>871894</td>\n",
       "      <td>14606.0</td>\n",
       "      <td>676357.0</td>\n",
       "      <td>29716907.0</td>\n",
       "    </tr>\n",
       "    <tr>\n",
       "      <th>4</th>\n",
       "      <td>South Africa</td>\n",
       "      <td>Africa</td>\n",
       "      <td>5.938157e+07</td>\n",
       "      <td>538184</td>\n",
       "      <td>9604.0</td>\n",
       "      <td>387316.0</td>\n",
       "      <td>3149807.0</td>\n",
       "    </tr>\n",
       "  </tbody>\n",
       "</table>\n",
       "</div>"
      ],
      "text/plain": [
       "  Country/Region      Continent    Population  TotalCases  TotalDeaths  \\\n",
       "0            USA  North America  3.311981e+08     5032179     162804.0   \n",
       "1         Brazil  South America  2.127107e+08     2917562      98644.0   \n",
       "2          India           Asia  1.381345e+09     2025409      41638.0   \n",
       "3         Russia         Europe  1.459409e+08      871894      14606.0   \n",
       "4   South Africa         Africa  5.938157e+07      538184       9604.0   \n",
       "\n",
       "   TotalRecovered  TotalTests  \n",
       "0       2576668.0  63139605.0  \n",
       "1       2047660.0  13206188.0  \n",
       "2       1377384.0  22149351.0  \n",
       "3        676357.0  29716907.0  \n",
       "4        387316.0   3149807.0  "
      ]
     },
     "execution_count": 527,
     "metadata": {},
     "output_type": "execute_result"
    }
   ],
   "source": [
    "# Creating a new dataframe (dfx) with variables required for this investigation\n",
    "\n",
    "dfx = [\"Country/Region\", \"Continent\", \"Population\", \"TotalCases\", \"TotalDeaths\", \"TotalRecovered\", \"TotalTests\"]\n",
    "dfx = df[dfx]\n",
    "dfx.head(5)"
   ]
  },
  {
   "cell_type": "code",
   "execution_count": 528,
   "metadata": {},
   "outputs": [
    {
     "name": "stdout",
     "output_type": "stream",
     "text": [
      "<class 'pandas.core.frame.DataFrame'>\n",
      "RangeIndex: 209 entries, 0 to 208\n",
      "Data columns (total 7 columns):\n",
      " #   Column          Non-Null Count  Dtype  \n",
      "---  ------          --------------  -----  \n",
      " 0   Country/Region  209 non-null    object \n",
      " 1   Continent       208 non-null    object \n",
      " 2   Population      208 non-null    float64\n",
      " 3   TotalCases      209 non-null    int64  \n",
      " 4   TotalDeaths     188 non-null    float64\n",
      " 5   TotalRecovered  205 non-null    float64\n",
      " 6   TotalTests      191 non-null    float64\n",
      "dtypes: float64(4), int64(1), object(2)\n",
      "memory usage: 11.6+ KB\n"
     ]
    }
   ],
   "source": [
    "# Summary of (dfx) dataframe\n",
    "\n",
    "dfx.info()"
   ]
  },
  {
   "cell_type": "markdown",
   "metadata": {},
   "source": [
    "- This dataset contains 209 rows and 7 columns"
   ]
  },
  {
   "cell_type": "code",
   "execution_count": 529,
   "metadata": {},
   "outputs": [
    {
     "data": {
      "text/html": [
       "<div>\n",
       "<style scoped>\n",
       "    .dataframe tbody tr th:only-of-type {\n",
       "        vertical-align: middle;\n",
       "    }\n",
       "\n",
       "    .dataframe tbody tr th {\n",
       "        vertical-align: top;\n",
       "    }\n",
       "\n",
       "    .dataframe thead th {\n",
       "        text-align: right;\n",
       "    }\n",
       "</style>\n",
       "<table border=\"1\" class=\"dataframe\">\n",
       "  <thead>\n",
       "    <tr style=\"text-align: right;\">\n",
       "      <th></th>\n",
       "      <th>Population</th>\n",
       "      <th>TotalCases</th>\n",
       "      <th>TotalDeaths</th>\n",
       "      <th>TotalRecovered</th>\n",
       "      <th>TotalTests</th>\n",
       "    </tr>\n",
       "  </thead>\n",
       "  <tbody>\n",
       "    <tr>\n",
       "      <th>count</th>\n",
       "      <td>2.080000e+02</td>\n",
       "      <td>209.00</td>\n",
       "      <td>188.00</td>\n",
       "      <td>205.00</td>\n",
       "      <td>191.00</td>\n",
       "    </tr>\n",
       "    <tr>\n",
       "      <th>mean</th>\n",
       "      <td>3.041549e+07</td>\n",
       "      <td>91718.50</td>\n",
       "      <td>3792.59</td>\n",
       "      <td>58878.98</td>\n",
       "      <td>1402404.70</td>\n",
       "    </tr>\n",
       "    <tr>\n",
       "      <th>std</th>\n",
       "      <td>1.047661e+08</td>\n",
       "      <td>432586.68</td>\n",
       "      <td>15487.18</td>\n",
       "      <td>256698.41</td>\n",
       "      <td>5553366.67</td>\n",
       "    </tr>\n",
       "    <tr>\n",
       "      <th>min</th>\n",
       "      <td>8.010000e+02</td>\n",
       "      <td>10.00</td>\n",
       "      <td>1.00</td>\n",
       "      <td>7.00</td>\n",
       "      <td>61.00</td>\n",
       "    </tr>\n",
       "    <tr>\n",
       "      <th>25%</th>\n",
       "      <td>9.663140e+05</td>\n",
       "      <td>712.00</td>\n",
       "      <td>22.00</td>\n",
       "      <td>334.00</td>\n",
       "      <td>25752.00</td>\n",
       "    </tr>\n",
       "    <tr>\n",
       "      <th>50%</th>\n",
       "      <td>7.041972e+06</td>\n",
       "      <td>4491.00</td>\n",
       "      <td>113.00</td>\n",
       "      <td>2178.00</td>\n",
       "      <td>135702.00</td>\n",
       "    </tr>\n",
       "    <tr>\n",
       "      <th>75%</th>\n",
       "      <td>2.575614e+07</td>\n",
       "      <td>36896.00</td>\n",
       "      <td>786.00</td>\n",
       "      <td>20553.00</td>\n",
       "      <td>757696.00</td>\n",
       "    </tr>\n",
       "    <tr>\n",
       "      <th>max</th>\n",
       "      <td>1.381345e+09</td>\n",
       "      <td>5032179.00</td>\n",
       "      <td>162804.00</td>\n",
       "      <td>2576668.00</td>\n",
       "      <td>63139605.00</td>\n",
       "    </tr>\n",
       "  </tbody>\n",
       "</table>\n",
       "</div>"
      ],
      "text/plain": [
       "         Population  TotalCases  TotalDeaths  TotalRecovered   TotalTests\n",
       "count  2.080000e+02      209.00       188.00          205.00       191.00\n",
       "mean   3.041549e+07    91718.50      3792.59        58878.98   1402404.70\n",
       "std    1.047661e+08   432586.68     15487.18       256698.41   5553366.67\n",
       "min    8.010000e+02       10.00         1.00            7.00        61.00\n",
       "25%    9.663140e+05      712.00        22.00          334.00     25752.00\n",
       "50%    7.041972e+06     4491.00       113.00         2178.00    135702.00\n",
       "75%    2.575614e+07    36896.00       786.00        20553.00    757696.00\n",
       "max    1.381345e+09  5032179.00    162804.00      2576668.00  63139605.00"
      ]
     },
     "execution_count": 529,
     "metadata": {},
     "output_type": "execute_result"
    }
   ],
   "source": [
    "# Checking summary statistics of (dfx) dataframe up to two decmial places\n",
    "\n",
    "dfx.describe().round(2)"
   ]
  },
  {
   "cell_type": "code",
   "execution_count": 530,
   "metadata": {},
   "outputs": [
    {
     "data": {
      "text/plain": [
       "Country/Region     0\n",
       "Continent          1\n",
       "Population         1\n",
       "TotalCases         0\n",
       "TotalDeaths       21\n",
       "TotalRecovered     4\n",
       "TotalTests        18\n",
       "dtype: int64"
      ]
     },
     "execution_count": 530,
     "metadata": {},
     "output_type": "execute_result"
    }
   ],
   "source": [
    "# Checking if any rows have missing data \n",
    "\n",
    "dfx.isnull().sum()"
   ]
  },
  {
   "cell_type": "markdown",
   "metadata": {},
   "source": [
    "- The Continent variable has 1 row with missing data\n",
    "- The Population variable has 1 row with missing data\n",
    "- The TotalDeaths variable has 21 rows with missing data\n",
    "- The TotalRecovered variable has 4 rows with missing data\n",
    "- The TotalTests variable has 18 rows with missing data"
   ]
  },
  {
   "cell_type": "code",
   "execution_count": 531,
   "metadata": {},
   "outputs": [],
   "source": [
    "# Creating a new dataframe (dfxx) which drops rows with missing data from the (dfx) dataframe\n",
    "\n",
    "dfxx = dfx.dropna()"
   ]
  },
  {
   "cell_type": "code",
   "execution_count": 532,
   "metadata": {},
   "outputs": [
    {
     "data": {
      "text/plain": [
       "Country/Region    0\n",
       "Continent         0\n",
       "Population        0\n",
       "TotalCases        0\n",
       "TotalDeaths       0\n",
       "TotalRecovered    0\n",
       "TotalTests        0\n",
       "dtype: int64"
      ]
     },
     "execution_count": 532,
     "metadata": {},
     "output_type": "execute_result"
    }
   ],
   "source": [
    "# Checking if all the rows with missing data are removed\n",
    "\n",
    "dfxx.isnull().sum()"
   ]
  },
  {
   "cell_type": "code",
   "execution_count": 533,
   "metadata": {},
   "outputs": [
    {
     "name": "stdout",
     "output_type": "stream",
     "text": [
      "<class 'pandas.core.frame.DataFrame'>\n",
      "Int64Index: 169 entries, 0 to 204\n",
      "Data columns (total 7 columns):\n",
      " #   Column          Non-Null Count  Dtype  \n",
      "---  ------          --------------  -----  \n",
      " 0   Country/Region  169 non-null    object \n",
      " 1   Continent       169 non-null    object \n",
      " 2   Population      169 non-null    float64\n",
      " 3   TotalCases      169 non-null    int64  \n",
      " 4   TotalDeaths     169 non-null    float64\n",
      " 5   TotalRecovered  169 non-null    float64\n",
      " 6   TotalTests      169 non-null    float64\n",
      "dtypes: float64(4), int64(1), object(2)\n",
      "memory usage: 10.6+ KB\n"
     ]
    }
   ],
   "source": [
    "# Summary of (dfxx) dataframe\n",
    "\n",
    "dfxx.info()"
   ]
  },
  {
   "cell_type": "markdown",
   "metadata": {},
   "source": [
    "- 40 rows of missing data were dropped leaving 169 rows fo data to analyze"
   ]
  },
  {
   "cell_type": "code",
   "execution_count": 534,
   "metadata": {},
   "outputs": [
    {
     "data": {
      "text/plain": [
       "False    169\n",
       "dtype: int64"
      ]
     },
     "execution_count": 534,
     "metadata": {},
     "output_type": "execute_result"
    }
   ],
   "source": [
    "# Checking for duplicates\n",
    "\n",
    "dfxx.duplicated().value_counts()"
   ]
  },
  {
   "cell_type": "markdown",
   "metadata": {},
   "source": [
    "- No duplicates found"
   ]
  },
  {
   "cell_type": "markdown",
   "metadata": {},
   "source": [
    "______________________________________________________________________________________________________________________\n",
    "\n",
    "## Exploring Countries with the Highest and Lowest Total Reported Covid-19 cases\n",
    "______________________________________________________________________________________________________________________\n"
   ]
  },
  {
   "cell_type": "code",
   "execution_count": 535,
   "metadata": {},
   "outputs": [
    {
     "data": {
      "text/html": [
       "<div>\n",
       "<style scoped>\n",
       "    .dataframe tbody tr th:only-of-type {\n",
       "        vertical-align: middle;\n",
       "    }\n",
       "\n",
       "    .dataframe tbody tr th {\n",
       "        vertical-align: top;\n",
       "    }\n",
       "\n",
       "    .dataframe thead th {\n",
       "        text-align: right;\n",
       "    }\n",
       "</style>\n",
       "<table border=\"1\" class=\"dataframe\">\n",
       "  <thead>\n",
       "    <tr style=\"text-align: right;\">\n",
       "      <th></th>\n",
       "      <th>Country/Region</th>\n",
       "      <th>TotalCases</th>\n",
       "    </tr>\n",
       "  </thead>\n",
       "  <tbody>\n",
       "    <tr>\n",
       "      <th>0</th>\n",
       "      <td>USA</td>\n",
       "      <td>5032179</td>\n",
       "    </tr>\n",
       "    <tr>\n",
       "      <th>1</th>\n",
       "      <td>Brazil</td>\n",
       "      <td>2917562</td>\n",
       "    </tr>\n",
       "    <tr>\n",
       "      <th>2</th>\n",
       "      <td>India</td>\n",
       "      <td>2025409</td>\n",
       "    </tr>\n",
       "    <tr>\n",
       "      <th>3</th>\n",
       "      <td>Russia</td>\n",
       "      <td>871894</td>\n",
       "    </tr>\n",
       "    <tr>\n",
       "      <th>4</th>\n",
       "      <td>South Africa</td>\n",
       "      <td>538184</td>\n",
       "    </tr>\n",
       "  </tbody>\n",
       "</table>\n",
       "</div>"
      ],
      "text/plain": [
       "  Country/Region  TotalCases\n",
       "0            USA     5032179\n",
       "1         Brazil     2917562\n",
       "2          India     2025409\n",
       "3         Russia      871894\n",
       "4   South Africa      538184"
      ]
     },
     "execution_count": 535,
     "metadata": {},
     "output_type": "execute_result"
    }
   ],
   "source": [
    "# Creating a new dataframe (df1) from countries and total cases data obtained from the (dfxx) dataframe\n",
    "\n",
    "df1 = dfxx[[\"Country/Region\", \"TotalCases\"]]\n",
    "df1.head(5)"
   ]
  },
  {
   "cell_type": "code",
   "execution_count": 536,
   "metadata": {
    "scrolled": true
   },
   "outputs": [
    {
     "data": {
      "text/html": [
       "<div>\n",
       "<style scoped>\n",
       "    .dataframe tbody tr th:only-of-type {\n",
       "        vertical-align: middle;\n",
       "    }\n",
       "\n",
       "    .dataframe tbody tr th {\n",
       "        vertical-align: top;\n",
       "    }\n",
       "\n",
       "    .dataframe thead th {\n",
       "        text-align: right;\n",
       "    }\n",
       "</style>\n",
       "<table border=\"1\" class=\"dataframe\">\n",
       "  <thead>\n",
       "    <tr style=\"text-align: right;\">\n",
       "      <th></th>\n",
       "      <th>TotalCases</th>\n",
       "    </tr>\n",
       "  </thead>\n",
       "  <tbody>\n",
       "    <tr>\n",
       "      <th>count</th>\n",
       "      <td>169.00</td>\n",
       "    </tr>\n",
       "    <tr>\n",
       "      <th>mean</th>\n",
       "      <td>108263.77</td>\n",
       "    </tr>\n",
       "    <tr>\n",
       "      <th>std</th>\n",
       "      <td>478518.80</td>\n",
       "    </tr>\n",
       "    <tr>\n",
       "      <th>min</th>\n",
       "      <td>13.00</td>\n",
       "    </tr>\n",
       "    <tr>\n",
       "      <th>25%</th>\n",
       "      <td>1232.00</td>\n",
       "    </tr>\n",
       "    <tr>\n",
       "      <th>50%</th>\n",
       "      <td>7073.00</td>\n",
       "    </tr>\n",
       "    <tr>\n",
       "      <th>75%</th>\n",
       "      <td>45098.00</td>\n",
       "    </tr>\n",
       "    <tr>\n",
       "      <th>max</th>\n",
       "      <td>5032179.00</td>\n",
       "    </tr>\n",
       "  </tbody>\n",
       "</table>\n",
       "</div>"
      ],
      "text/plain": [
       "       TotalCases\n",
       "count      169.00\n",
       "mean    108263.77\n",
       "std     478518.80\n",
       "min         13.00\n",
       "25%       1232.00\n",
       "50%       7073.00\n",
       "75%      45098.00\n",
       "max    5032179.00"
      ]
     },
     "execution_count": 536,
     "metadata": {},
     "output_type": "execute_result"
    }
   ],
   "source": [
    "# Checking summary statistics up to two decmial places\n",
    "\n",
    "df1.describe().round(2)"
   ]
  },
  {
   "cell_type": "code",
   "execution_count": 537,
   "metadata": {},
   "outputs": [
    {
     "data": {
      "text/html": [
       "<div>\n",
       "<style scoped>\n",
       "    .dataframe tbody tr th:only-of-type {\n",
       "        vertical-align: middle;\n",
       "    }\n",
       "\n",
       "    .dataframe tbody tr th {\n",
       "        vertical-align: top;\n",
       "    }\n",
       "\n",
       "    .dataframe thead th {\n",
       "        text-align: right;\n",
       "    }\n",
       "</style>\n",
       "<table border=\"1\" class=\"dataframe\">\n",
       "  <thead>\n",
       "    <tr style=\"text-align: right;\">\n",
       "      <th></th>\n",
       "      <th>Country/Region</th>\n",
       "      <th>TotalCases</th>\n",
       "    </tr>\n",
       "  </thead>\n",
       "  <tbody>\n",
       "    <tr>\n",
       "      <th>0</th>\n",
       "      <td>USA</td>\n",
       "      <td>5032179</td>\n",
       "    </tr>\n",
       "    <tr>\n",
       "      <th>1</th>\n",
       "      <td>Brazil</td>\n",
       "      <td>2917562</td>\n",
       "    </tr>\n",
       "    <tr>\n",
       "      <th>2</th>\n",
       "      <td>India</td>\n",
       "      <td>2025409</td>\n",
       "    </tr>\n",
       "    <tr>\n",
       "      <th>3</th>\n",
       "      <td>Russia</td>\n",
       "      <td>871894</td>\n",
       "    </tr>\n",
       "    <tr>\n",
       "      <th>4</th>\n",
       "      <td>South Africa</td>\n",
       "      <td>538184</td>\n",
       "    </tr>\n",
       "    <tr>\n",
       "      <th>5</th>\n",
       "      <td>Mexico</td>\n",
       "      <td>462690</td>\n",
       "    </tr>\n",
       "    <tr>\n",
       "      <th>6</th>\n",
       "      <td>Peru</td>\n",
       "      <td>455409</td>\n",
       "    </tr>\n",
       "    <tr>\n",
       "      <th>7</th>\n",
       "      <td>Chile</td>\n",
       "      <td>366671</td>\n",
       "    </tr>\n",
       "    <tr>\n",
       "      <th>8</th>\n",
       "      <td>Colombia</td>\n",
       "      <td>357710</td>\n",
       "    </tr>\n",
       "    <tr>\n",
       "      <th>10</th>\n",
       "      <td>Iran</td>\n",
       "      <td>320117</td>\n",
       "    </tr>\n",
       "  </tbody>\n",
       "</table>\n",
       "</div>"
      ],
      "text/plain": [
       "   Country/Region  TotalCases\n",
       "0             USA     5032179\n",
       "1          Brazil     2917562\n",
       "2           India     2025409\n",
       "3          Russia      871894\n",
       "4    South Africa      538184\n",
       "5          Mexico      462690\n",
       "6            Peru      455409\n",
       "7           Chile      366671\n",
       "8        Colombia      357710\n",
       "10           Iran      320117"
      ]
     },
     "execution_count": 537,
     "metadata": {},
     "output_type": "execute_result"
    }
   ],
   "source": [
    "# Creating a dataframe (df1h) which has the total reported cases of the different countries arranged in descending order\n",
    "\n",
    "df1h = df1.sort_values(by=\"TotalCases\", ascending=False)\n",
    "df1h.head(10)"
   ]
  },
  {
   "cell_type": "code",
   "execution_count": 538,
   "metadata": {},
   "outputs": [
    {
     "data": {
      "image/png": "[encoded data removed]",
      "text/plain": [
       "<Figure size 720x720 with 1 Axes>"
      ]
     },
     "metadata": {
      "needs_background": "light"
     },
     "output_type": "display_data"
    }
   ],
   "source": [
    "# Graph of top 10 countries with the most Covid-19 cases on the 22/01/2020\n",
    "\n",
    "plt.figure(figsize = (10,10))\n",
    "plt.ticklabel_format(style='plain')\n",
    "a = sns.barplot(x=\"Country/Region\", y=\"TotalCases\", data= df1h.iloc[0:10])\n",
    "a.set_xlabel(\"Country\", fontsize = 15)\n",
    "a.set_ylabel(\"Total Covid-19 Cases\", fontsize = 15)\n",
    "a.set_title(\"Top 10 Countries with the Most Reported Covid-19 Cases (22/01/2020)\", fontsize = 15)\n",
    "plt.show()\n",
    "plt.close()"
   ]
  },
  {
   "cell_type": "markdown",
   "metadata": {},
   "source": [
    "- USA had the most reported Covid-19 cases \n",
    "- The difference between the country with the highest (USA) and lowest (Iran) Covid-19 case amongst the overall top countries with the highest reported Covid-19 cases is 4712062 cases which is within a very high range"
   ]
  },
  {
   "cell_type": "code",
   "execution_count": 539,
   "metadata": {},
   "outputs": [
    {
     "data": {
      "text/html": [
       "<div>\n",
       "<style scoped>\n",
       "    .dataframe tbody tr th:only-of-type {\n",
       "        vertical-align: middle;\n",
       "    }\n",
       "\n",
       "    .dataframe tbody tr th {\n",
       "        vertical-align: top;\n",
       "    }\n",
       "\n",
       "    .dataframe thead th {\n",
       "        text-align: right;\n",
       "    }\n",
       "</style>\n",
       "<table border=\"1\" class=\"dataframe\">\n",
       "  <thead>\n",
       "    <tr style=\"text-align: right;\">\n",
       "      <th></th>\n",
       "      <th>Country/Region</th>\n",
       "      <th>TotalCases</th>\n",
       "    </tr>\n",
       "  </thead>\n",
       "  <tbody>\n",
       "    <tr>\n",
       "      <th>204</th>\n",
       "      <td>Montserrat</td>\n",
       "      <td>13</td>\n",
       "    </tr>\n",
       "    <tr>\n",
       "      <th>195</th>\n",
       "      <td>Fiji</td>\n",
       "      <td>27</td>\n",
       "    </tr>\n",
       "    <tr>\n",
       "      <th>194</th>\n",
       "      <td>Curaçao</td>\n",
       "      <td>31</td>\n",
       "    </tr>\n",
       "    <tr>\n",
       "      <th>192</th>\n",
       "      <td>Saint Martin</td>\n",
       "      <td>53</td>\n",
       "    </tr>\n",
       "    <tr>\n",
       "      <th>189</th>\n",
       "      <td>Belize</td>\n",
       "      <td>86</td>\n",
       "    </tr>\n",
       "    <tr>\n",
       "      <th>188</th>\n",
       "      <td>Liechtenstein</td>\n",
       "      <td>89</td>\n",
       "    </tr>\n",
       "    <tr>\n",
       "      <th>187</th>\n",
       "      <td>Antigua and Barbuda</td>\n",
       "      <td>92</td>\n",
       "    </tr>\n",
       "    <tr>\n",
       "      <th>185</th>\n",
       "      <td>Monaco</td>\n",
       "      <td>125</td>\n",
       "    </tr>\n",
       "    <tr>\n",
       "      <th>183</th>\n",
       "      <td>Turks and Caicos</td>\n",
       "      <td>129</td>\n",
       "    </tr>\n",
       "    <tr>\n",
       "      <th>182</th>\n",
       "      <td>Barbados</td>\n",
       "      <td>133</td>\n",
       "    </tr>\n",
       "  </tbody>\n",
       "</table>\n",
       "</div>"
      ],
      "text/plain": [
       "          Country/Region  TotalCases\n",
       "204           Montserrat          13\n",
       "195                 Fiji          27\n",
       "194              Curaçao          31\n",
       "192         Saint Martin          53\n",
       "189               Belize          86\n",
       "188        Liechtenstein          89\n",
       "187  Antigua and Barbuda          92\n",
       "185               Monaco         125\n",
       "183     Turks and Caicos         129\n",
       "182             Barbados         133"
      ]
     },
     "execution_count": 539,
     "metadata": {},
     "output_type": "execute_result"
    }
   ],
   "source": [
    "# Creating a dataframe (df1l) which has the total reported cases of the different countries arranged in ascending order\n",
    "\n",
    "df1l = df1.sort_values(by=\"TotalCases\", ascending=True)\n",
    "df1l.head(10)"
   ]
  },
  {
   "cell_type": "code",
   "execution_count": 540,
   "metadata": {},
   "outputs": [
    {
     "data": {
      "image/png": "[encoded data removed]",
      "text/plain": [
       "<Figure size 1440x720 with 1 Axes>"
      ]
     },
     "metadata": {
      "needs_background": "light"
     },
     "output_type": "display_data"
    }
   ],
   "source": [
    "# Graph of top 10 countries with the least reported Covid-19 cases on the 22/01/2020\n",
    "\n",
    "plt.figure(figsize = (20,10))\n",
    "b = sns.barplot(x=\"Country/Region\", y=\"TotalCases\", data= df1l.iloc[0:10])\n",
    "b.set_xlabel(\"Country\", fontsize = 15)\n",
    "b.set_ylabel(\"Total Covid-19 Cases\", fontsize = 15)\n",
    "b.set_title(\"Top 10 Countries with the Least Reported Covid-19 Cases (22/01/2020)\", fontsize = 15)\n",
    "plt.show()\n",
    "plt.close()"
   ]
  },
  {
   "cell_type": "markdown",
   "metadata": {},
   "source": [
    "- Montserrat had the least reported Covid-19 cases \n",
    "- The difference between the country with the highest (Barbados) and lowest (Montserrat) Covid-19 case amongst the overall top countries with the lowest reported Covid-19 cases is 120 cases which is within a low range\n",
    "- The difference between the country with the highest and lowest reported Covid-19 cases is too big and can be due to a variety of factors such as the efficiency of the Covid-19 testing of each country"
   ]
  },
  {
   "cell_type": "code",
   "execution_count": 541,
   "metadata": {},
   "outputs": [
    {
     "name": "stdout",
     "output_type": "stream",
     "text": [
      "<class 'pandas.core.frame.DataFrame'>\n",
      "Int64Index: 127 entries, 137 to 0\n",
      "Data columns (total 2 columns):\n",
      " #   Column          Non-Null Count  Dtype \n",
      "---  ------          --------------  ----- \n",
      " 0   Country/Region  127 non-null    object\n",
      " 1   TotalCases      127 non-null    int64 \n",
      "dtypes: int64(1), object(1)\n",
      "memory usage: 3.0+ KB\n"
     ]
    }
   ],
   "source": [
    "# Dropping data with TotalCases value of less than 1232 which is the lower quartile of the dataset and checking the shape of the new dataframe (df1SD)\n",
    "\n",
    "df1SD = df1l.drop(df1l[df1l.TotalCases < 1232].index) \n",
    "df1SD.info()"
   ]
  },
  {
   "cell_type": "markdown",
   "metadata": {},
   "source": [
    "- 42 rows of data have total cases of less than 1232 cases and have been dropped\n",
    "- Only the cases below the lower quartile of the dataset have been dropped instead of including the cases above the higher quartile as well, because it would be more probable for inaccurate Covid-19 testing in countries with low reported cases, but this is beyond the scope of this investigation to draw an accurate conclusion"
   ]
  },
  {
   "cell_type": "code",
   "execution_count": 542,
   "metadata": {},
   "outputs": [
    {
     "data": {
      "text/html": [
       "<div>\n",
       "<style scoped>\n",
       "    .dataframe tbody tr th:only-of-type {\n",
       "        vertical-align: middle;\n",
       "    }\n",
       "\n",
       "    .dataframe tbody tr th {\n",
       "        vertical-align: top;\n",
       "    }\n",
       "\n",
       "    .dataframe thead th {\n",
       "        text-align: right;\n",
       "    }\n",
       "</style>\n",
       "<table border=\"1\" class=\"dataframe\">\n",
       "  <thead>\n",
       "    <tr style=\"text-align: right;\">\n",
       "      <th></th>\n",
       "      <th>Country/Region</th>\n",
       "      <th>TotalCases</th>\n",
       "    </tr>\n",
       "  </thead>\n",
       "  <tbody>\n",
       "    <tr>\n",
       "      <th>137</th>\n",
       "      <td>Jordan</td>\n",
       "      <td>1232</td>\n",
       "    </tr>\n",
       "    <tr>\n",
       "      <th>136</th>\n",
       "      <td>Latvia</td>\n",
       "      <td>1275</td>\n",
       "    </tr>\n",
       "    <tr>\n",
       "      <th>135</th>\n",
       "      <td>Uruguay</td>\n",
       "      <td>1318</td>\n",
       "    </tr>\n",
       "    <tr>\n",
       "      <th>134</th>\n",
       "      <td>Angola</td>\n",
       "      <td>1483</td>\n",
       "    </tr>\n",
       "    <tr>\n",
       "      <th>133</th>\n",
       "      <td>New Zealand</td>\n",
       "      <td>1569</td>\n",
       "    </tr>\n",
       "    <tr>\n",
       "      <th>132</th>\n",
       "      <td>Tunisia</td>\n",
       "      <td>1642</td>\n",
       "    </tr>\n",
       "    <tr>\n",
       "      <th>131</th>\n",
       "      <td>Yemen</td>\n",
       "      <td>1768</td>\n",
       "    </tr>\n",
       "    <tr>\n",
       "      <th>129</th>\n",
       "      <td>Iceland</td>\n",
       "      <td>1930</td>\n",
       "    </tr>\n",
       "    <tr>\n",
       "      <th>128</th>\n",
       "      <td>Benin</td>\n",
       "      <td>1936</td>\n",
       "    </tr>\n",
       "    <tr>\n",
       "      <th>127</th>\n",
       "      <td>Guinea-Bissau</td>\n",
       "      <td>2032</td>\n",
       "    </tr>\n",
       "  </tbody>\n",
       "</table>\n",
       "</div>"
      ],
      "text/plain": [
       "    Country/Region  TotalCases\n",
       "137         Jordan        1232\n",
       "136         Latvia        1275\n",
       "135        Uruguay        1318\n",
       "134         Angola        1483\n",
       "133    New Zealand        1569\n",
       "132        Tunisia        1642\n",
       "131          Yemen        1768\n",
       "129        Iceland        1930\n",
       "128          Benin        1936\n",
       "127  Guinea-Bissau        2032"
      ]
     },
     "execution_count": 542,
     "metadata": {},
     "output_type": "execute_result"
    }
   ],
   "source": [
    "# Shape of (df1SD) dataframe\n",
    "\n",
    "df1SD.head(10)"
   ]
  },
  {
   "cell_type": "code",
   "execution_count": 543,
   "metadata": {},
   "outputs": [
    {
     "data": {
      "image/png": "[encoded data removed]",
      "text/plain": [
       "<Figure size 1440x720 with 1 Axes>"
      ]
     },
     "metadata": {
      "needs_background": "light"
     },
     "output_type": "display_data"
    }
   ],
   "source": [
    "# Graph of top 10 countries with the least reported Covid-19 cases on the 22/01/2020 after the countries with cases below the lower quartile of the standard deviation was dropped\n",
    "\n",
    "plt.figure(figsize = (20,10))\n",
    "c = sns.barplot(x=\"Country/Region\", y=\"TotalCases\", data= df1SD.iloc[0:10])\n",
    "c.set_xlabel(\"Country\", fontsize = 15)\n",
    "c.set_ylabel(\"Total Covid-19 Cases\", fontsize = 15)\n",
    "c.set_title(\"Top 10 Countries with the Least Reported Covid-19 Cases (22/01/2020) after the Countries with Cases below the Lower Quartile of the Standard Deviation was Dropped\", fontsize = 13)\n",
    "plt.show()\n",
    "plt.close()"
   ]
  },
  {
   "cell_type": "markdown",
   "metadata": {},
   "source": [
    "- Jordan had the least reported Covid-19 cases after countries with cases below the lower quartile of the standard deviation was dropped\n",
    "- The difference between the country with the highest (Guinea-Bissau) and lowest (Jordan) Covid-19 case amongst the overall top countries with the lowest reported Covid-19 cases is 800 cases which is within a moderate range"
   ]
  },
  {
   "cell_type": "markdown",
   "metadata": {},
   "source": [
    "______________________________________________________________________________________________________________________\n",
    "\n",
    "## Exploring the Continents with the Highest and Lowest Total Reported Covid-19 Cases\n",
    "______________________________________________________________________________________________________________________\n"
   ]
  },
  {
   "cell_type": "code",
   "execution_count": 544,
   "metadata": {},
   "outputs": [
    {
     "data": {
      "text/html": [
       "<div>\n",
       "<style scoped>\n",
       "    .dataframe tbody tr th:only-of-type {\n",
       "        vertical-align: middle;\n",
       "    }\n",
       "\n",
       "    .dataframe tbody tr th {\n",
       "        vertical-align: top;\n",
       "    }\n",
       "\n",
       "    .dataframe thead th {\n",
       "        text-align: right;\n",
       "    }\n",
       "</style>\n",
       "<table border=\"1\" class=\"dataframe\">\n",
       "  <thead>\n",
       "    <tr style=\"text-align: right;\">\n",
       "      <th></th>\n",
       "      <th>Country/Region</th>\n",
       "      <th>Continent</th>\n",
       "      <th>TotalCases</th>\n",
       "    </tr>\n",
       "  </thead>\n",
       "  <tbody>\n",
       "    <tr>\n",
       "      <th>0</th>\n",
       "      <td>USA</td>\n",
       "      <td>North America</td>\n",
       "      <td>5032179</td>\n",
       "    </tr>\n",
       "    <tr>\n",
       "      <th>1</th>\n",
       "      <td>Brazil</td>\n",
       "      <td>South America</td>\n",
       "      <td>2917562</td>\n",
       "    </tr>\n",
       "    <tr>\n",
       "      <th>2</th>\n",
       "      <td>India</td>\n",
       "      <td>Asia</td>\n",
       "      <td>2025409</td>\n",
       "    </tr>\n",
       "    <tr>\n",
       "      <th>3</th>\n",
       "      <td>Russia</td>\n",
       "      <td>Europe</td>\n",
       "      <td>871894</td>\n",
       "    </tr>\n",
       "    <tr>\n",
       "      <th>4</th>\n",
       "      <td>South Africa</td>\n",
       "      <td>Africa</td>\n",
       "      <td>538184</td>\n",
       "    </tr>\n",
       "  </tbody>\n",
       "</table>\n",
       "</div>"
      ],
      "text/plain": [
       "  Country/Region      Continent  TotalCases\n",
       "0            USA  North America     5032179\n",
       "1         Brazil  South America     2917562\n",
       "2          India           Asia     2025409\n",
       "3         Russia         Europe      871894\n",
       "4   South Africa         Africa      538184"
      ]
     },
     "execution_count": 544,
     "metadata": {},
     "output_type": "execute_result"
    }
   ],
   "source": [
    "# Creating a new dataframe (df2) from countries, continents and total cases data obtained from the (dfxx) dataframe\n",
    "\n",
    "df2 = dfxx[[\"Country/Region\", \"Continent\", \"TotalCases\"]]\n",
    "df2.head()"
   ]
  },
  {
   "cell_type": "code",
   "execution_count": 545,
   "metadata": {},
   "outputs": [
    {
     "data": {
      "text/html": [
       "<div>\n",
       "<style scoped>\n",
       "    .dataframe tbody tr th:only-of-type {\n",
       "        vertical-align: middle;\n",
       "    }\n",
       "\n",
       "    .dataframe tbody tr th {\n",
       "        vertical-align: top;\n",
       "    }\n",
       "\n",
       "    .dataframe thead th {\n",
       "        text-align: right;\n",
       "    }\n",
       "</style>\n",
       "<table border=\"1\" class=\"dataframe\">\n",
       "  <thead>\n",
       "    <tr style=\"text-align: right;\">\n",
       "      <th></th>\n",
       "      <th>TotalCases</th>\n",
       "    </tr>\n",
       "    <tr>\n",
       "      <th>Continent</th>\n",
       "      <th></th>\n",
       "    </tr>\n",
       "  </thead>\n",
       "  <tbody>\n",
       "    <tr>\n",
       "      <th>Africa</th>\n",
       "      <td>955635</td>\n",
       "    </tr>\n",
       "    <tr>\n",
       "      <th>Asia</th>\n",
       "      <td>4680398</td>\n",
       "    </tr>\n",
       "    <tr>\n",
       "      <th>Australia/Oceania</th>\n",
       "      <td>21649</td>\n",
       "    </tr>\n",
       "    <tr>\n",
       "      <th>Europe</th>\n",
       "      <td>2180495</td>\n",
       "    </tr>\n",
       "    <tr>\n",
       "      <th>North America</th>\n",
       "      <td>5915140</td>\n",
       "    </tr>\n",
       "    <tr>\n",
       "      <th>South America</th>\n",
       "      <td>4543260</td>\n",
       "    </tr>\n",
       "  </tbody>\n",
       "</table>\n",
       "</div>"
      ],
      "text/plain": [
       "                   TotalCases\n",
       "Continent                    \n",
       "Africa                 955635\n",
       "Asia                  4680398\n",
       "Australia/Oceania       21649\n",
       "Europe                2180495\n",
       "North America         5915140\n",
       "South America         4543260"
      ]
     },
     "execution_count": 545,
     "metadata": {},
     "output_type": "execute_result"
    }
   ],
   "source": [
    "# Creating a new dataframe (df2h) which groups the different countries into their respective continents and displays their total reported Covid-19 cases\n",
    "\n",
    "df2h = df2.groupby(['Continent']).sum()\n",
    "df2h.head(10)"
   ]
  },
  {
   "cell_type": "code",
   "execution_count": 546,
   "metadata": {
    "scrolled": true
   },
   "outputs": [
    {
     "data": {
      "text/html": [
       "<div>\n",
       "<style scoped>\n",
       "    .dataframe tbody tr th:only-of-type {\n",
       "        vertical-align: middle;\n",
       "    }\n",
       "\n",
       "    .dataframe tbody tr th {\n",
       "        vertical-align: top;\n",
       "    }\n",
       "\n",
       "    .dataframe thead th {\n",
       "        text-align: right;\n",
       "    }\n",
       "</style>\n",
       "<table border=\"1\" class=\"dataframe\">\n",
       "  <thead>\n",
       "    <tr style=\"text-align: right;\">\n",
       "      <th></th>\n",
       "      <th>TotalCases</th>\n",
       "    </tr>\n",
       "    <tr>\n",
       "      <th>Continent</th>\n",
       "      <th></th>\n",
       "    </tr>\n",
       "  </thead>\n",
       "  <tbody>\n",
       "    <tr>\n",
       "      <th>Australia/Oceania</th>\n",
       "      <td>21649</td>\n",
       "    </tr>\n",
       "    <tr>\n",
       "      <th>Africa</th>\n",
       "      <td>955635</td>\n",
       "    </tr>\n",
       "    <tr>\n",
       "      <th>Europe</th>\n",
       "      <td>2180495</td>\n",
       "    </tr>\n",
       "    <tr>\n",
       "      <th>South America</th>\n",
       "      <td>4543260</td>\n",
       "    </tr>\n",
       "    <tr>\n",
       "      <th>Asia</th>\n",
       "      <td>4680398</td>\n",
       "    </tr>\n",
       "    <tr>\n",
       "      <th>North America</th>\n",
       "      <td>5915140</td>\n",
       "    </tr>\n",
       "  </tbody>\n",
       "</table>\n",
       "</div>"
      ],
      "text/plain": [
       "                   TotalCases\n",
       "Continent                    \n",
       "Australia/Oceania       21649\n",
       "Africa                 955635\n",
       "Europe                2180495\n",
       "South America         4543260\n",
       "Asia                  4680398\n",
       "North America         5915140"
      ]
     },
     "execution_count": 546,
     "metadata": {},
     "output_type": "execute_result"
    }
   ],
   "source": [
    "# Sorting continents according to the ascending total reported Covid-19 case order and putting it in a new dataframe (df2H)\n",
    "\n",
    "df2H = df2h.sort_values(by=['TotalCases'], ascending=True)\n",
    "df2H.head(10)"
   ]
  },
  {
   "cell_type": "markdown",
   "metadata": {},
   "source": [
    "- There are only 6 continents in the dataset"
   ]
  },
  {
   "cell_type": "code",
   "execution_count": 547,
   "metadata": {},
   "outputs": [
    {
     "data": {
      "image/png": "[encoded data removed]",
      "text/plain": [
       "<Figure size 432x288 with 1 Axes>"
      ]
     },
     "metadata": {
      "needs_background": "light"
     },
     "output_type": "display_data"
    }
   ],
   "source": [
    "# Graph of different continents with their respective overall reported Covid-19 cases on the 22/01/2020\n",
    "\n",
    "d = df2H.plot.barh()\n",
    "plt.rcParams[\"figure.figsize\"] = (15,10)\n",
    "plt.legend(loc='lower right')\n",
    "d.set_xlabel(\"Total Covid-19 Cases (10^6)\", fontsize = 10)\n",
    "d.set_ylabel(\"Continents\", fontsize = 10)\n",
    "d.set_title(\"Total Reported Covid-19 Cases of Different Continents (22/01/2020)\")\n",
    "plt.show()\n",
    "plt.close()"
   ]
  },
  {
   "cell_type": "markdown",
   "metadata": {},
   "source": [
    "- North America has the most reported Covid-19 cases whereas Australia/Oceania has the least and they have a difference of 5892491 cases\n",
    "- Cases that were lower than the lower quartile of the standard deviation of the total number of reported Covid-19 cases were not dropped as this would most likely affect the continents with the lower number of cases and we might lose some power of the study"
   ]
  },
  {
   "cell_type": "markdown",
   "metadata": {},
   "source": [
    "______________________________________________________________________________________________________________________\n",
    "\n",
    "## Relationship between the Total Covid-19 Tests and Reported Cases\n",
    "______________________________________________________________________________________________________________________\n"
   ]
  },
  {
   "cell_type": "code",
   "execution_count": 548,
   "metadata": {},
   "outputs": [
    {
     "data": {
      "text/html": [
       "<div>\n",
       "<style scoped>\n",
       "    .dataframe tbody tr th:only-of-type {\n",
       "        vertical-align: middle;\n",
       "    }\n",
       "\n",
       "    .dataframe tbody tr th {\n",
       "        vertical-align: top;\n",
       "    }\n",
       "\n",
       "    .dataframe thead th {\n",
       "        text-align: right;\n",
       "    }\n",
       "</style>\n",
       "<table border=\"1\" class=\"dataframe\">\n",
       "  <thead>\n",
       "    <tr style=\"text-align: right;\">\n",
       "      <th></th>\n",
       "      <th>Country/Region</th>\n",
       "      <th>TotalTests</th>\n",
       "      <th>TotalCases</th>\n",
       "    </tr>\n",
       "  </thead>\n",
       "  <tbody>\n",
       "    <tr>\n",
       "      <th>0</th>\n",
       "      <td>USA</td>\n",
       "      <td>63139605.0</td>\n",
       "      <td>5032179</td>\n",
       "    </tr>\n",
       "    <tr>\n",
       "      <th>1</th>\n",
       "      <td>Brazil</td>\n",
       "      <td>13206188.0</td>\n",
       "      <td>2917562</td>\n",
       "    </tr>\n",
       "    <tr>\n",
       "      <th>2</th>\n",
       "      <td>India</td>\n",
       "      <td>22149351.0</td>\n",
       "      <td>2025409</td>\n",
       "    </tr>\n",
       "    <tr>\n",
       "      <th>3</th>\n",
       "      <td>Russia</td>\n",
       "      <td>29716907.0</td>\n",
       "      <td>871894</td>\n",
       "    </tr>\n",
       "    <tr>\n",
       "      <th>4</th>\n",
       "      <td>South Africa</td>\n",
       "      <td>3149807.0</td>\n",
       "      <td>538184</td>\n",
       "    </tr>\n",
       "  </tbody>\n",
       "</table>\n",
       "</div>"
      ],
      "text/plain": [
       "  Country/Region  TotalTests  TotalCases\n",
       "0            USA  63139605.0     5032179\n",
       "1         Brazil  13206188.0     2917562\n",
       "2          India  22149351.0     2025409\n",
       "3         Russia  29716907.0      871894\n",
       "4   South Africa   3149807.0      538184"
      ]
     },
     "execution_count": 548,
     "metadata": {},
     "output_type": "execute_result"
    }
   ],
   "source": [
    "# Creating a new dataframe (df3) from countries, total tests and cases data obtained from the (dfxx) dataframe\n",
    "\n",
    "df3 = dfxx[[\"Country/Region\", \"TotalTests\", \"TotalCases\"]]\n",
    "df3.head()"
   ]
  },
  {
   "cell_type": "code",
   "execution_count": 549,
   "metadata": {},
   "outputs": [
    {
     "data": {
      "image/png": "[encoded data removed]",
      "text/plain": [
       "<Figure size 1440x720 with 1 Axes>"
      ]
     },
     "metadata": {
      "needs_background": "light"
     },
     "output_type": "display_data"
    }
   ],
   "source": [
    "# Regression graph of relationship between the total reported Covid-19 tests and cases on the 22/01/2020\n",
    "\n",
    "plt.figure(figsize = (20,10))\n",
    "plt.ticklabel_format(style='plain')\n",
    "e = sns.regplot(data=df3, x=\"TotalTests\", y=\"TotalCases\")\n",
    "e.set_xlabel(\"Total Tests\", fontsize = 15)\n",
    "e.set_ylabel(\"Total Cases\", fontsize = 15)\n",
    "e.set_title(\"Total Reported Covid-19 Tests versus Cases (22/01/2020)\", fontsize = 15)\n",
    "plt.show()\n",
    "plt.close()"
   ]
  },
  {
   "cell_type": "markdown",
   "metadata": {},
   "source": [
    "- A positive correlation can be seen whereby as the total number of Covid-19 tests increases, there are more reported cases"
   ]
  },
  {
   "cell_type": "code",
   "execution_count": 550,
   "metadata": {},
   "outputs": [
    {
     "name": "stdout",
     "output_type": "stream",
     "text": [
      "Regression Line:  y = 685.5375430915592 + 0.075β\n",
      "Correlation Coef.:  0.9046005033512491\n",
      "\"Goodness of Fit\":  0.8183020706633332\n"
     ]
    }
   ],
   "source": [
    "# Calculation of the regression line between the variables of the total reported Covid-19 tests and cases on the 22/01/2020\n",
    "\n",
    "j = df3['TotalTests']\n",
    "k = df3['TotalCases']\n",
    "\n",
    "def linear_regression(j, k):     \n",
    "    N = len(j)\n",
    "    j_mean = j.mean()\n",
    "    k_mean = k.mean()\n",
    "    \n",
    "    B1_num = ((j - j_mean) * (k - k_mean)).sum()\n",
    "    B1_den = ((j - j_mean)**2).sum()\n",
    "    B1 = B1_num / B1_den\n",
    "    \n",
    "    B0 = k_mean - (B1*j_mean)\n",
    "    \n",
    "    reg_line = 'y = {} + {}β'.format(B0, round(B1, 3))\n",
    "    \n",
    "    return (B0, B1, reg_line)\n",
    "\n",
    "def corr_coef(j, k):\n",
    "    N = len(j)\n",
    "    \n",
    "    num = (N * (j*k).sum()) - (j.sum() * k.sum())\n",
    "    den = np.sqrt((N * (j**2).sum() - j.sum()**2) * (N * (k**2).sum() - k.sum()**2))\n",
    "    R = num / den\n",
    "    return R\n",
    "\n",
    "B0, B1, reg_line = linear_regression(j, k)\n",
    "print('Regression Line: ', reg_line)\n",
    "R = corr_coef(j, k)\n",
    "print('Correlation Coef.: ', R)\n",
    "print('\"Goodness of Fit\": ', R**2)"
   ]
  },
  {
   "cell_type": "markdown",
   "metadata": {},
   "source": [
    "- The correlation coefficient of this regression line is positive (0.90) therefore you can say that there is a positive correlation between the total Covid-19 tests and reported cases\n",
    "- The goodness of fit (0.82) of this regression line is moderately close to 1 which explains that the variable total tests is able to explain roughly 82% of the variance of the variable total reported cases"
   ]
  },
  {
   "cell_type": "markdown",
   "metadata": {},
   "source": [
    "______________________________________________________________________________________________________________________\n",
    "\n",
    "## Relationship between Countries with the Highest Covid-19 tests and Reported Cases\n",
    "______________________________________________________________________________________________________________________\n"
   ]
  },
  {
   "cell_type": "code",
   "execution_count": 551,
   "metadata": {},
   "outputs": [
    {
     "data": {
      "text/html": [
       "<div>\n",
       "<style scoped>\n",
       "    .dataframe tbody tr th:only-of-type {\n",
       "        vertical-align: middle;\n",
       "    }\n",
       "\n",
       "    .dataframe tbody tr th {\n",
       "        vertical-align: top;\n",
       "    }\n",
       "\n",
       "    .dataframe thead th {\n",
       "        text-align: right;\n",
       "    }\n",
       "</style>\n",
       "<table border=\"1\" class=\"dataframe\">\n",
       "  <thead>\n",
       "    <tr style=\"text-align: right;\">\n",
       "      <th></th>\n",
       "      <th>Country/Region</th>\n",
       "      <th>TotalTests</th>\n",
       "      <th>TotalCases</th>\n",
       "    </tr>\n",
       "  </thead>\n",
       "  <tbody>\n",
       "    <tr>\n",
       "      <th>0</th>\n",
       "      <td>USA</td>\n",
       "      <td>63139605.0</td>\n",
       "      <td>5032179</td>\n",
       "    </tr>\n",
       "    <tr>\n",
       "      <th>3</th>\n",
       "      <td>Russia</td>\n",
       "      <td>29716907.0</td>\n",
       "      <td>871894</td>\n",
       "    </tr>\n",
       "    <tr>\n",
       "      <th>2</th>\n",
       "      <td>India</td>\n",
       "      <td>22149351.0</td>\n",
       "      <td>2025409</td>\n",
       "    </tr>\n",
       "    <tr>\n",
       "      <th>1</th>\n",
       "      <td>Brazil</td>\n",
       "      <td>13206188.0</td>\n",
       "      <td>2917562</td>\n",
       "    </tr>\n",
       "    <tr>\n",
       "      <th>18</th>\n",
       "      <td>Germany</td>\n",
       "      <td>8586648.0</td>\n",
       "      <td>215210</td>\n",
       "    </tr>\n",
       "    <tr>\n",
       "      <th>15</th>\n",
       "      <td>Italy</td>\n",
       "      <td>7099713.0</td>\n",
       "      <td>249204</td>\n",
       "    </tr>\n",
       "    <tr>\n",
       "      <th>38</th>\n",
       "      <td>UAE</td>\n",
       "      <td>5262658.0</td>\n",
       "      <td>61845</td>\n",
       "    </tr>\n",
       "    <tr>\n",
       "      <th>16</th>\n",
       "      <td>Turkey</td>\n",
       "      <td>5081802.0</td>\n",
       "      <td>237265</td>\n",
       "    </tr>\n",
       "    <tr>\n",
       "      <th>67</th>\n",
       "      <td>Australia</td>\n",
       "      <td>4631419.0</td>\n",
       "      <td>19890</td>\n",
       "    </tr>\n",
       "    <tr>\n",
       "      <th>23</th>\n",
       "      <td>Canada</td>\n",
       "      <td>4319172.0</td>\n",
       "      <td>118561</td>\n",
       "    </tr>\n",
       "  </tbody>\n",
       "</table>\n",
       "</div>"
      ],
      "text/plain": [
       "   Country/Region  TotalTests  TotalCases\n",
       "0             USA  63139605.0     5032179\n",
       "3          Russia  29716907.0      871894\n",
       "2           India  22149351.0     2025409\n",
       "1          Brazil  13206188.0     2917562\n",
       "18        Germany   8586648.0      215210\n",
       "15          Italy   7099713.0      249204\n",
       "38            UAE   5262658.0       61845\n",
       "16         Turkey   5081802.0      237265\n",
       "67      Australia   4631419.0       19890\n",
       "23         Canada   4319172.0      118561"
      ]
     },
     "execution_count": 551,
     "metadata": {},
     "output_type": "execute_result"
    }
   ],
   "source": [
    "# Creating a dataframe (df3H) which has the total tests of the different countries arranged in descending order\n",
    "\n",
    "df3H = df3.sort_values(by=\"TotalTests\", ascending=False)\n",
    "df3H.head(10)"
   ]
  },
  {
   "cell_type": "code",
   "execution_count": 552,
   "metadata": {},
   "outputs": [
    {
     "data": {
      "image/png": "[encoded data removed]",
      "text/plain": [
       "<Figure size 720x720 with 1 Axes>"
      ]
     },
     "metadata": {
      "needs_background": "light"
     },
     "output_type": "display_data"
    }
   ],
   "source": [
    "# Graph of top 10 countries with the most Covid-19 tests on the 22/01/2020\n",
    "\n",
    "plt.figure(figsize = (10,10))\n",
    "plt.ticklabel_format(style='plain')\n",
    "f = sns.barplot(x=\"Country/Region\", y=\"TotalTests\", data= df3H.iloc[0:10])\n",
    "f.set_xlabel(\"Country\", fontsize = 15)\n",
    "f.set_ylabel(\"Total Covid-19 Tests\", fontsize = 15)\n",
    "f.set_title(\"Top 10 Countries with the Most Covid-19 Tests (22/01/2020)\", fontsize = 15)\n",
    "plt.show()\n",
    "plt.close()"
   ]
  },
  {
   "cell_type": "markdown",
   "metadata": {},
   "source": [
    "- USA is the country with the highest number of Covid-19 tests and Canada is the lowest amongst the top 10 countries with the most Covid-19 tests reported on the 22/01/2020\n",
    "- Comparing the top 10 countries with the most Covid-19 tests and cases, only 4 countries, USA, Russia, India and Brazil remains as the countries with the most Covid-19 tests and cases\n",
    "- However, there is a weak correlation seen between these four countries which suggests that more Covid-19 tests will equate to more reported cases, and this hypothesis can be strengthen by looking at our previously created regression model between the number of Covid-19 cases and tests, as well as potentially adding more reported countries to the dataset"
   ]
  },
  {
   "cell_type": "markdown",
   "metadata": {},
   "source": [
    "______________________________________________________________________________________________________________________\n",
    "\n",
    "## Analyzing Severity of Covid-19 in Terms of Mortality Rate\n",
    "______________________________________________________________________________________________________________________\n"
   ]
  },
  {
   "cell_type": "code",
   "execution_count": 553,
   "metadata": {},
   "outputs": [
    {
     "data": {
      "text/html": [
       "<div>\n",
       "<style scoped>\n",
       "    .dataframe tbody tr th:only-of-type {\n",
       "        vertical-align: middle;\n",
       "    }\n",
       "\n",
       "    .dataframe tbody tr th {\n",
       "        vertical-align: top;\n",
       "    }\n",
       "\n",
       "    .dataframe thead th {\n",
       "        text-align: right;\n",
       "    }\n",
       "</style>\n",
       "<table border=\"1\" class=\"dataframe\">\n",
       "  <thead>\n",
       "    <tr style=\"text-align: right;\">\n",
       "      <th></th>\n",
       "      <th>Country/Region</th>\n",
       "      <th>TotalDeaths</th>\n",
       "      <th>TotalCases</th>\n",
       "    </tr>\n",
       "  </thead>\n",
       "  <tbody>\n",
       "    <tr>\n",
       "      <th>0</th>\n",
       "      <td>USA</td>\n",
       "      <td>162804.0</td>\n",
       "      <td>5032179</td>\n",
       "    </tr>\n",
       "    <tr>\n",
       "      <th>1</th>\n",
       "      <td>Brazil</td>\n",
       "      <td>98644.0</td>\n",
       "      <td>2917562</td>\n",
       "    </tr>\n",
       "    <tr>\n",
       "      <th>2</th>\n",
       "      <td>India</td>\n",
       "      <td>41638.0</td>\n",
       "      <td>2025409</td>\n",
       "    </tr>\n",
       "    <tr>\n",
       "      <th>3</th>\n",
       "      <td>Russia</td>\n",
       "      <td>14606.0</td>\n",
       "      <td>871894</td>\n",
       "    </tr>\n",
       "    <tr>\n",
       "      <th>4</th>\n",
       "      <td>South Africa</td>\n",
       "      <td>9604.0</td>\n",
       "      <td>538184</td>\n",
       "    </tr>\n",
       "  </tbody>\n",
       "</table>\n",
       "</div>"
      ],
      "text/plain": [
       "  Country/Region  TotalDeaths  TotalCases\n",
       "0            USA     162804.0     5032179\n",
       "1         Brazil      98644.0     2917562\n",
       "2          India      41638.0     2025409\n",
       "3         Russia      14606.0      871894\n",
       "4   South Africa       9604.0      538184"
      ]
     },
     "execution_count": 553,
     "metadata": {},
     "output_type": "execute_result"
    }
   ],
   "source": [
    "# Creating a new dataframe (df4) from countries, total deaths and cases data obtained from the (dfxx) dataframe\n",
    "\n",
    "df4 = dfxx[[\"Country/Region\",\"TotalDeaths\", \"TotalCases\"]]\n",
    "df4.head(5)"
   ]
  },
  {
   "cell_type": "code",
   "execution_count": 554,
   "metadata": {},
   "outputs": [
    {
     "data": {
      "image/png": "[encoded data removed]",
      "text/plain": [
       "<Figure size 1440x720 with 1 Axes>"
      ]
     },
     "metadata": {
      "needs_background": "light"
     },
     "output_type": "display_data"
    }
   ],
   "source": [
    "# Graph of relationship between the total reported Covid-19 cases and deaths on the 22/01/2020\n",
    "\n",
    "plt.figure(figsize = (20,10))\n",
    "plt.ticklabel_format(style='plain')\n",
    "f = sns.regplot(data=df4, x=\"TotalCases\", y=\"TotalDeaths\")\n",
    "f.set_xlabel(\"Total Cases\", fontsize = 15)\n",
    "f.set_ylabel(\"Total Deaths\", fontsize = 15)\n",
    "f.set_title(\"Total Reported Covid-19 Cases versus Deaths (22/01/2020)\", fontsize = 15)\n",
    "plt.show()\n",
    "plt.close()"
   ]
  },
  {
   "cell_type": "markdown",
   "metadata": {},
   "source": [
    "- A positive correlation is seen whereby as the number of cases increases, the total number of reported deaths increases which indicates a high level of severity of the Covid-19 virus on the mortality of infected people\n",
    "- The positive correlation between the total Covid-19 cases and deaths is stronger than the relationship between the total reported Covid-19 tests and cases"
   ]
  },
  {
   "cell_type": "code",
   "execution_count": 555,
   "metadata": {},
   "outputs": [
    {
     "name": "stdout",
     "output_type": "stream",
     "text": [
      "Regression Line:  y = 267.3809107578627 + 0.032β\n",
      "Correlation Coef.:  0.9549609873430226\n",
      "\"Goodness of Fit\":  0.9119504873471606\n"
     ]
    }
   ],
   "source": [
    "# Calculation of the regression line between the variables of total reported Covid-19 cases and deaths on the 22/01/2020\n",
    "\n",
    "x = df4['TotalCases']\n",
    "y = df4['TotalDeaths']\n",
    "\n",
    "def linear_regression(x, y):     \n",
    "    N = len(x)\n",
    "    x_mean = x.mean()\n",
    "    y_mean = y.mean()\n",
    "    \n",
    "    B1_num = ((x - x_mean) * (y - y_mean)).sum()\n",
    "    B1_den = ((x - x_mean)**2).sum()\n",
    "    B1 = B1_num / B1_den\n",
    "    \n",
    "    B0 = y_mean - (B1*x_mean)\n",
    "    \n",
    "    reg_line = 'y = {} + {}β'.format(B0, round(B1, 3))\n",
    "    \n",
    "    return (B0, B1, reg_line)\n",
    "\n",
    "def corr_coef(x, y):\n",
    "    N = len(x)\n",
    "    \n",
    "    num = (N * (x*y).sum()) - (x.sum() * y.sum())\n",
    "    den = np.sqrt((N * (x**2).sum() - x.sum()**2) * (N * (y**2).sum() - y.sum()**2))\n",
    "    R = num / den\n",
    "    return R\n",
    "\n",
    "B0, B1, reg_line = linear_regression(x, y)\n",
    "print('Regression Line: ', reg_line)\n",
    "R = corr_coef(x, y)\n",
    "print('Correlation Coef.: ', R)\n",
    "print('\"Goodness of Fit\": ', R**2)"
   ]
  },
  {
   "cell_type": "markdown",
   "metadata": {},
   "source": [
    "- The correlation coefficient of this regression line is positive (0.95) therefore you can say that there is a positive correlation between the total reported Covid-19 cases and deaths\n",
    "- The goodness of fit (0.91) of this regression line is somewhat close to 1 which explains that the variable total cases is able to explain roughly 91% of the variance of the variable total deaths\n",
    "- There is a stronger positive correlation between the total reported Covid-19 cases and deaths with a (0.91 Goodness of Fit) compared to the relationship between the total Covid-19 tests and cases with a (0.82 Goodness of Fit)"
   ]
  },
  {
   "cell_type": "markdown",
   "metadata": {},
   "source": [
    "______________________________________________________________________________________________________________________\n",
    "\n",
    "## Identifying Countries that have the Best and Worst Covid-19 Treatments\n",
    "______________________________________________________________________________________________________________________\n"
   ]
  },
  {
   "cell_type": "code",
   "execution_count": 556,
   "metadata": {},
   "outputs": [
    {
     "data": {
      "text/html": [
       "<div>\n",
       "<style scoped>\n",
       "    .dataframe tbody tr th:only-of-type {\n",
       "        vertical-align: middle;\n",
       "    }\n",
       "\n",
       "    .dataframe tbody tr th {\n",
       "        vertical-align: top;\n",
       "    }\n",
       "\n",
       "    .dataframe thead th {\n",
       "        text-align: right;\n",
       "    }\n",
       "</style>\n",
       "<table border=\"1\" class=\"dataframe\">\n",
       "  <thead>\n",
       "    <tr style=\"text-align: right;\">\n",
       "      <th></th>\n",
       "      <th>Country/Region</th>\n",
       "      <th>TotalCases</th>\n",
       "      <th>TotalRecovered</th>\n",
       "    </tr>\n",
       "  </thead>\n",
       "  <tbody>\n",
       "    <tr>\n",
       "      <th>0</th>\n",
       "      <td>USA</td>\n",
       "      <td>5032179</td>\n",
       "      <td>2576668.0</td>\n",
       "    </tr>\n",
       "    <tr>\n",
       "      <th>1</th>\n",
       "      <td>Brazil</td>\n",
       "      <td>2917562</td>\n",
       "      <td>2047660.0</td>\n",
       "    </tr>\n",
       "    <tr>\n",
       "      <th>2</th>\n",
       "      <td>India</td>\n",
       "      <td>2025409</td>\n",
       "      <td>1377384.0</td>\n",
       "    </tr>\n",
       "    <tr>\n",
       "      <th>3</th>\n",
       "      <td>Russia</td>\n",
       "      <td>871894</td>\n",
       "      <td>676357.0</td>\n",
       "    </tr>\n",
       "    <tr>\n",
       "      <th>4</th>\n",
       "      <td>South Africa</td>\n",
       "      <td>538184</td>\n",
       "      <td>387316.0</td>\n",
       "    </tr>\n",
       "  </tbody>\n",
       "</table>\n",
       "</div>"
      ],
      "text/plain": [
       "  Country/Region  TotalCases  TotalRecovered\n",
       "0            USA     5032179       2576668.0\n",
       "1         Brazil     2917562       2047660.0\n",
       "2          India     2025409       1377384.0\n",
       "3         Russia      871894        676357.0\n",
       "4   South Africa      538184        387316.0"
      ]
     },
     "execution_count": 556,
     "metadata": {},
     "output_type": "execute_result"
    }
   ],
   "source": [
    "# Creating a new dataframe (df5) from countries, total cases and recovered data obtained from the (dfxx) dataframe\n",
    "\n",
    "df5 = dfxx[[\"Country/Region\", \"TotalCases\", \"TotalRecovered\"]]\n",
    "df5.head()"
   ]
  },
  {
   "cell_type": "code",
   "execution_count": 557,
   "metadata": {},
   "outputs": [
    {
     "data": {
      "text/html": [
       "<div>\n",
       "<style scoped>\n",
       "    .dataframe tbody tr th:only-of-type {\n",
       "        vertical-align: middle;\n",
       "    }\n",
       "\n",
       "    .dataframe tbody tr th {\n",
       "        vertical-align: top;\n",
       "    }\n",
       "\n",
       "    .dataframe thead th {\n",
       "        text-align: right;\n",
       "    }\n",
       "</style>\n",
       "<table border=\"1\" class=\"dataframe\">\n",
       "  <thead>\n",
       "    <tr style=\"text-align: right;\">\n",
       "      <th></th>\n",
       "      <th>Country/Region</th>\n",
       "      <th>TotalCases</th>\n",
       "      <th>TotalRecovered</th>\n",
       "      <th>Healthy%</th>\n",
       "    </tr>\n",
       "  </thead>\n",
       "  <tbody>\n",
       "    <tr>\n",
       "      <th>0</th>\n",
       "      <td>USA</td>\n",
       "      <td>5032179</td>\n",
       "      <td>2576668.0</td>\n",
       "      <td>51.203822</td>\n",
       "    </tr>\n",
       "    <tr>\n",
       "      <th>1</th>\n",
       "      <td>Brazil</td>\n",
       "      <td>2917562</td>\n",
       "      <td>2047660.0</td>\n",
       "      <td>70.183941</td>\n",
       "    </tr>\n",
       "    <tr>\n",
       "      <th>2</th>\n",
       "      <td>India</td>\n",
       "      <td>2025409</td>\n",
       "      <td>1377384.0</td>\n",
       "      <td>68.005228</td>\n",
       "    </tr>\n",
       "    <tr>\n",
       "      <th>3</th>\n",
       "      <td>Russia</td>\n",
       "      <td>871894</td>\n",
       "      <td>676357.0</td>\n",
       "      <td>77.573306</td>\n",
       "    </tr>\n",
       "    <tr>\n",
       "      <th>4</th>\n",
       "      <td>South Africa</td>\n",
       "      <td>538184</td>\n",
       "      <td>387316.0</td>\n",
       "      <td>71.967208</td>\n",
       "    </tr>\n",
       "  </tbody>\n",
       "</table>\n",
       "</div>"
      ],
      "text/plain": [
       "  Country/Region  TotalCases  TotalRecovered   Healthy%\n",
       "0            USA     5032179       2576668.0  51.203822\n",
       "1         Brazil     2917562       2047660.0  70.183941\n",
       "2          India     2025409       1377384.0  68.005228\n",
       "3         Russia      871894        676357.0  77.573306\n",
       "4   South Africa      538184        387316.0  71.967208"
      ]
     },
     "execution_count": 557,
     "metadata": {},
     "output_type": "execute_result"
    }
   ],
   "source": [
    "# Creating new column (Healthy %) which shows the percentage of the patients that recovered from Covid-19\n",
    "\n",
    "warnings.filterwarnings('ignore')\n",
    "df5['Healthy%'] = df5['TotalRecovered']/df5['TotalCases'] * 100\n",
    "df5.head()"
   ]
  },
  {
   "cell_type": "code",
   "execution_count": 558,
   "metadata": {},
   "outputs": [
    {
     "data": {
      "text/html": [
       "<div>\n",
       "<style scoped>\n",
       "    .dataframe tbody tr th:only-of-type {\n",
       "        vertical-align: middle;\n",
       "    }\n",
       "\n",
       "    .dataframe tbody tr th {\n",
       "        vertical-align: top;\n",
       "    }\n",
       "\n",
       "    .dataframe thead th {\n",
       "        text-align: right;\n",
       "    }\n",
       "</style>\n",
       "<table border=\"1\" class=\"dataframe\">\n",
       "  <thead>\n",
       "    <tr style=\"text-align: right;\">\n",
       "      <th></th>\n",
       "      <th>Country/Region</th>\n",
       "      <th>TotalCases</th>\n",
       "      <th>TotalRecovered</th>\n",
       "      <th>Healthy%</th>\n",
       "    </tr>\n",
       "  </thead>\n",
       "  <tbody>\n",
       "    <tr>\n",
       "      <th>176</th>\n",
       "      <td>Cayman Islands</td>\n",
       "      <td>203</td>\n",
       "      <td>202.0</td>\n",
       "      <td>99.507389</td>\n",
       "    </tr>\n",
       "    <tr>\n",
       "      <th>181</th>\n",
       "      <td>Brunei</td>\n",
       "      <td>141</td>\n",
       "      <td>138.0</td>\n",
       "      <td>97.872340</td>\n",
       "    </tr>\n",
       "    <tr>\n",
       "      <th>133</th>\n",
       "      <td>New Zealand</td>\n",
       "      <td>1569</td>\n",
       "      <td>1524.0</td>\n",
       "      <td>97.131931</td>\n",
       "    </tr>\n",
       "    <tr>\n",
       "      <th>166</th>\n",
       "      <td>Mauritius</td>\n",
       "      <td>344</td>\n",
       "      <td>334.0</td>\n",
       "      <td>97.093023</td>\n",
       "    </tr>\n",
       "    <tr>\n",
       "      <th>24</th>\n",
       "      <td>Qatar</td>\n",
       "      <td>112092</td>\n",
       "      <td>108831.0</td>\n",
       "      <td>97.090783</td>\n",
       "    </tr>\n",
       "    <tr>\n",
       "      <th>83</th>\n",
       "      <td>Malaysia</td>\n",
       "      <td>9038</td>\n",
       "      <td>8713.0</td>\n",
       "      <td>96.404072</td>\n",
       "    </tr>\n",
       "    <tr>\n",
       "      <th>188</th>\n",
       "      <td>Liechtenstein</td>\n",
       "      <td>89</td>\n",
       "      <td>85.0</td>\n",
       "      <td>95.505618</td>\n",
       "    </tr>\n",
       "    <tr>\n",
       "      <th>137</th>\n",
       "      <td>Jordan</td>\n",
       "      <td>1232</td>\n",
       "      <td>1171.0</td>\n",
       "      <td>95.048701</td>\n",
       "    </tr>\n",
       "    <tr>\n",
       "      <th>97</th>\n",
       "      <td>Djibouti</td>\n",
       "      <td>5330</td>\n",
       "      <td>5057.0</td>\n",
       "      <td>94.878049</td>\n",
       "    </tr>\n",
       "    <tr>\n",
       "      <th>129</th>\n",
       "      <td>Iceland</td>\n",
       "      <td>1930</td>\n",
       "      <td>1825.0</td>\n",
       "      <td>94.559585</td>\n",
       "    </tr>\n",
       "  </tbody>\n",
       "</table>\n",
       "</div>"
      ],
      "text/plain": [
       "     Country/Region  TotalCases  TotalRecovered   Healthy%\n",
       "176  Cayman Islands         203           202.0  99.507389\n",
       "181         Brunei          141           138.0  97.872340\n",
       "133     New Zealand        1569          1524.0  97.131931\n",
       "166       Mauritius         344           334.0  97.093023\n",
       "24            Qatar      112092        108831.0  97.090783\n",
       "83         Malaysia        9038          8713.0  96.404072\n",
       "188   Liechtenstein          89            85.0  95.505618\n",
       "137          Jordan        1232          1171.0  95.048701\n",
       "97         Djibouti        5330          5057.0  94.878049\n",
       "129         Iceland        1930          1825.0  94.559585"
      ]
     },
     "execution_count": 558,
     "metadata": {},
     "output_type": "execute_result"
    }
   ],
   "source": [
    "# Creating a dataframe (df5h) which has the percetage of reported recovered Covid-19 patients arranged in descending order\n",
    "\n",
    "df5h = df5.sort_values(by=\"Healthy%\", ascending=False)\n",
    "df5h.head(10)"
   ]
  },
  {
   "cell_type": "code",
   "execution_count": 559,
   "metadata": {},
   "outputs": [
    {
     "data": {
      "image/png": "[encoded data removed]",
      "text/plain": [
       "<Figure size 1440x720 with 1 Axes>"
      ]
     },
     "metadata": {
      "needs_background": "light"
     },
     "output_type": "display_data"
    }
   ],
   "source": [
    "# Graph of top 10 countries with highest percentage of reported Covid-19 patient recoveries on the 22/01/2020\n",
    "\n",
    "plt.figure(figsize = (20,10))\n",
    "g = sns.barplot(x=\"Country/Region\", y=\"Healthy%\", data= df5h.iloc[0:10])\n",
    "g.set_xlabel(\"Country\", fontsize = 15)\n",
    "g.set_ylabel(\"Patient Recoveries % \", fontsize = 15)\n",
    "g.set_title(\"Top 10 Countries with the Highest Reported Covid-19 Patient Recoveries (22/01/2020)\", fontsize = 15)\n",
    "plt.show()\n",
    "plt.close()"
   ]
  },
  {
   "cell_type": "markdown",
   "metadata": {},
   "source": [
    "- Cayman Islands had the highest proportion (99.52%) of reported Covid-19 patient recoveries on the 22/01/2020\n",
    "- This does not indicate that Cayman Islands has the best medical treatments as we do not have sufficient data to draw an accurate conclusion, and this can be due to a variety of factors such as its low reported number of overall Covid-19 cases"
   ]
  },
  {
   "cell_type": "code",
   "execution_count": 560,
   "metadata": {},
   "outputs": [
    {
     "data": {
      "text/html": [
       "<div>\n",
       "<style scoped>\n",
       "    .dataframe tbody tr th:only-of-type {\n",
       "        vertical-align: middle;\n",
       "    }\n",
       "\n",
       "    .dataframe tbody tr th {\n",
       "        vertical-align: top;\n",
       "    }\n",
       "\n",
       "    .dataframe thead th {\n",
       "        text-align: right;\n",
       "    }\n",
       "</style>\n",
       "<table border=\"1\" class=\"dataframe\">\n",
       "  <thead>\n",
       "    <tr style=\"text-align: right;\">\n",
       "      <th></th>\n",
       "      <th>Country/Region</th>\n",
       "      <th>TotalCases</th>\n",
       "      <th>TotalRecovered</th>\n",
       "      <th>Healthy%</th>\n",
       "    </tr>\n",
       "  </thead>\n",
       "  <tbody>\n",
       "    <tr>\n",
       "      <th>152</th>\n",
       "      <td>Botswana</td>\n",
       "      <td>804</td>\n",
       "      <td>63.0</td>\n",
       "      <td>7.835821</td>\n",
       "    </tr>\n",
       "    <tr>\n",
       "      <th>153</th>\n",
       "      <td>Bahamas</td>\n",
       "      <td>761</td>\n",
       "      <td>91.0</td>\n",
       "      <td>11.957950</td>\n",
       "    </tr>\n",
       "    <tr>\n",
       "      <th>99</th>\n",
       "      <td>Libya</td>\n",
       "      <td>4879</td>\n",
       "      <td>652.0</td>\n",
       "      <td>13.363394</td>\n",
       "    </tr>\n",
       "    <tr>\n",
       "      <th>46</th>\n",
       "      <td>Honduras</td>\n",
       "      <td>45098</td>\n",
       "      <td>6116.0</td>\n",
       "      <td>13.561577</td>\n",
       "    </tr>\n",
       "    <tr>\n",
       "      <th>150</th>\n",
       "      <td>Gambia</td>\n",
       "      <td>935</td>\n",
       "      <td>136.0</td>\n",
       "      <td>14.545455</td>\n",
       "    </tr>\n",
       "    <tr>\n",
       "      <th>117</th>\n",
       "      <td>Namibia</td>\n",
       "      <td>2652</td>\n",
       "      <td>563.0</td>\n",
       "      <td>21.229261</td>\n",
       "    </tr>\n",
       "    <tr>\n",
       "      <th>155</th>\n",
       "      <td>Lesotho</td>\n",
       "      <td>742</td>\n",
       "      <td>175.0</td>\n",
       "      <td>23.584906</td>\n",
       "    </tr>\n",
       "    <tr>\n",
       "      <th>35</th>\n",
       "      <td>Belgium</td>\n",
       "      <td>71158</td>\n",
       "      <td>17661.0</td>\n",
       "      <td>24.819416</td>\n",
       "    </tr>\n",
       "    <tr>\n",
       "      <th>98</th>\n",
       "      <td>Greece</td>\n",
       "      <td>5123</td>\n",
       "      <td>1374.0</td>\n",
       "      <td>26.820223</td>\n",
       "    </tr>\n",
       "    <tr>\n",
       "      <th>105</th>\n",
       "      <td>Zimbabwe</td>\n",
       "      <td>4339</td>\n",
       "      <td>1264.0</td>\n",
       "      <td>29.131136</td>\n",
       "    </tr>\n",
       "  </tbody>\n",
       "</table>\n",
       "</div>"
      ],
      "text/plain": [
       "    Country/Region  TotalCases  TotalRecovered   Healthy%\n",
       "152       Botswana         804            63.0   7.835821\n",
       "153        Bahamas         761            91.0  11.957950\n",
       "99           Libya        4879           652.0  13.363394\n",
       "46        Honduras       45098          6116.0  13.561577\n",
       "150         Gambia         935           136.0  14.545455\n",
       "117        Namibia        2652           563.0  21.229261\n",
       "155        Lesotho         742           175.0  23.584906\n",
       "35         Belgium       71158         17661.0  24.819416\n",
       "98          Greece        5123          1374.0  26.820223\n",
       "105       Zimbabwe        4339          1264.0  29.131136"
      ]
     },
     "execution_count": 560,
     "metadata": {},
     "output_type": "execute_result"
    }
   ],
   "source": [
    "# Creating a dataframe (df5l) which has the percentage of reported recovered Covid-19 patients arranged in descending order\n",
    "\n",
    "df5l = df5.sort_values(by=\"Healthy%\", ascending=True)\n",
    "df5l.head(10)"
   ]
  },
  {
   "cell_type": "code",
   "execution_count": 561,
   "metadata": {},
   "outputs": [
    {
     "data": {
      "image/png": "[encoded data removed]",
      "text/plain": [
       "<Figure size 1440x720 with 1 Axes>"
      ]
     },
     "metadata": {
      "needs_background": "light"
     },
     "output_type": "display_data"
    }
   ],
   "source": [
    "# Graph of top 10 countries with lowest percentage of reported Covid-19 patient recoveries on the 22/01/2020\n",
    "\n",
    "plt.figure(figsize = (20,10))\n",
    "h = sns.barplot(x=\"Country/Region\", y=\"Healthy%\", data= df5l.iloc[0:10])\n",
    "h.set_xlabel(\"Country\", fontsize = 15)\n",
    "h.set_ylabel(\"Patient Recoveries % \", fontsize = 15)\n",
    "h.set_title(\"Top 10 Countries with the Lowest Reported Covid-19 Patient Recoveries (22/01/2020)\", fontsize = 15)\n",
    "plt.show()\n",
    "plt.close()"
   ]
  },
  {
   "cell_type": "markdown",
   "metadata": {},
   "source": [
    "- Botswana had the lowest proportion (7.84%) of reported Covid-19 patient recoveries on the 22/01/2020\n",
    "- This statement is only valid based on the data we analyzed and we need more data to confirm this hypothesis, and the low patient recoveries can be attributed to poor medical facilities and treatments offered in Botswana\n"
   ]
  },
  {
   "cell_type": "markdown",
   "metadata": {},
   "source": [
    "______________________________________________________________________________________________________________________\n",
    "\n",
    "## Conclusion\n",
    "______________________________________________________________________________________________________________________\n",
    "1. Based on the data, USA is seen to have the highest number of reported Covid-19 cases (5032179). On the other hand, Montserrat has the lowest number of reported Covid-19 cases (13). This is a huge difference with the USA which can be attributed to several reasons. This could be due to the USA having better Covid-19 testing kits or more test centers which would increase the number of cases. Also, maybe USA might be closer to the epicenter of the Covid-19 pandemic thus there might be a stronger route of viral transmission. There is possibility that people from the countries with lower reported cases could have a genetic makeup that makes them more resistant to the virus, hence the lower reported case numbers. All this reasonings are just speculation and our data is not enough to confirm these ideas.\n",
    "\n",
    "2. From our analysis, it seems that North America has the highest reported Covid-19 cases and in contrast, Australia/Oceania has the lowest. This could be due to their geographical location to the epicenter of the Covid-19 pandemic. Also, maybe North America is a more popular tourist destination which could explain how more of the virus has entered and affected its population. Both ideas cannot be confirmed from this data analysis alone and requires further studies.\n",
    "\n",
    "3. We have shown that the more reported Covid-19 test done, the higher the cases are. This makes sense because the tests are one of the main ways the Covid-19 cases are reported, besides patients getting directly diagnosed in the hospital when the symptoms are severe enough. Furthermore, we show that USA has the highest reported Covid-19 tests done which could explain why it was previously identified to have the highest Covid-19 cases.\n",
    "\n",
    "4. We identified that the Covid-19 virus severely impacts patients by showing a strong positive correlation between the number of reported Covid-19 cases and deaths. This correlation is even stronger than the relationship between the number of reported Covid-19 tests and cases. This could be because the virus has not been identified before, therefore existing treatments were lacking which attributed to the high number of deaths. This idea cannot be supported by our data and requires further studies for confirmation\n",
    "\n",
    "5. Cayman Islands had the highest proportion of Covid-19 patient recoveries (99.52%) and Botswana had the lowest (7.84%). This number could be because Cayman Islands had a relatively low number of cases to begin with. Also, Botswana could have a poor healthcare system to combat Covid-19 which would explain the low patient recovery rate. Both ideas cannot be supported through our analysis, and we cannot conclude which countries have better healthcare facilities and treatments based on this study. "
   ]
  },
  {
   "cell_type": "markdown",
   "metadata": {},
   "source": [
    "______________________________________________________________________________________________________________________\n",
    "\n",
    "## Future Work\n",
    "______________________________________________________________________________________________________________________\n",
    "This study has highlighted some interesting findings based on the available dataset. However, a lot of future work is needed to confirm some of the hypothesis brought up during this analysis. There are a number of ways in which the study can be improved on:\n",
    "\n",
    "1. Increasing the number of reported countries\n",
    "2. Identifying what criteria each country uses to classify a Covid-19 case\n",
    "3. Obtaining the data on each country’s healthcare rating "
   ]
  }
 ],
 "metadata": {
  "kernelspec": {
   "display_name": "learn-env",
   "language": "python",
   "name": "learn-env"
  },
  "language_info": {
   "codemirror_mode": {
    "name": "ipython",
    "version": 3
   },
   "file_extension": ".py",
   "mimetype": "text/x-python",
   "name": "python",
   "nbconvert_exporter": "python",
   "pygments_lexer": "ipython3",
   "version": "3.8.5"
  }
 },
 "nbformat": 4,
 "nbformat_minor": 4
}
